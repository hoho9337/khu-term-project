{
 "cells": [
  {
   "cell_type": "markdown",
   "id": "3deb6e65",
   "metadata": {
    "slideshow": {
     "slide_type": "-"
    }
   },
   "source": [
    "# Code\n",
    "\n",
    "> by Hogeon Kim"
   ]
  },
  {
   "cell_type": "markdown",
   "id": "06cf41ac",
   "metadata": {},
   "source": [
    "# Data Preprocess\n",
    "가공된 data는 코드 안에 있기 때문에 원본 data와 코드가 있으면 가공 data를 확인할 수 있음 - 별첨X"
   ]
  },
  {
   "cell_type": "code",
   "execution_count": 1,
   "id": "61c40a99",
   "metadata": {},
   "outputs": [],
   "source": [
    "import pandas as pd\n",
    "import matplotlib.pyplot as plt\n",
    "%matplotlib inline\n",
    "from sklearn.linear_model import LinearRegression\n",
    "import numpy as np\n",
    "np.warnings.filterwarnings('ignore', category=np.VisibleDeprecationWarning)"
   ]
  },
  {
   "cell_type": "markdown",
   "id": "fbd20739",
   "metadata": {},
   "source": [
    "한글 data를 다루기 위한 iso코드"
   ]
  },
  {
   "cell_type": "code",
   "execution_count": 2,
   "id": "3abb92b6",
   "metadata": {},
   "outputs": [
    {
     "data": {
      "text/html": [
       "<div>\n",
       "<style scoped>\n",
       "    .dataframe tbody tr th:only-of-type {\n",
       "        vertical-align: middle;\n",
       "    }\n",
       "\n",
       "    .dataframe tbody tr th {\n",
       "        vertical-align: top;\n",
       "    }\n",
       "\n",
       "    .dataframe thead th {\n",
       "        text-align: right;\n",
       "    }\n",
       "</style>\n",
       "<table border=\"1\" class=\"dataframe\">\n",
       "  <thead>\n",
       "    <tr style=\"text-align: right;\">\n",
       "      <th></th>\n",
       "      <th>name</th>\n",
       "      <th>kor_name</th>\n",
       "    </tr>\n",
       "    <tr>\n",
       "      <th>alpha-2</th>\n",
       "      <th></th>\n",
       "      <th></th>\n",
       "    </tr>\n",
       "  </thead>\n",
       "  <tbody>\n",
       "    <tr>\n",
       "      <th>AF</th>\n",
       "      <td>Afghanistan</td>\n",
       "      <td>아프가니스탄</td>\n",
       "    </tr>\n",
       "    <tr>\n",
       "      <th>AX</th>\n",
       "      <td>Åland Islands</td>\n",
       "      <td>NaN</td>\n",
       "    </tr>\n",
       "    <tr>\n",
       "      <th>AL</th>\n",
       "      <td>Albania</td>\n",
       "      <td>알바니아</td>\n",
       "    </tr>\n",
       "    <tr>\n",
       "      <th>DZ</th>\n",
       "      <td>Algeria</td>\n",
       "      <td>알제리</td>\n",
       "    </tr>\n",
       "    <tr>\n",
       "      <th>AS</th>\n",
       "      <td>American Samoa</td>\n",
       "      <td>미국령사모아</td>\n",
       "    </tr>\n",
       "    <tr>\n",
       "      <th>...</th>\n",
       "      <td>...</td>\n",
       "      <td>...</td>\n",
       "    </tr>\n",
       "    <tr>\n",
       "      <th>WF</th>\n",
       "      <td>Wallis and Futuna</td>\n",
       "      <td>왈리스푸트나</td>\n",
       "    </tr>\n",
       "    <tr>\n",
       "      <th>EH</th>\n",
       "      <td>Western Sahara</td>\n",
       "      <td>NaN</td>\n",
       "    </tr>\n",
       "    <tr>\n",
       "      <th>YE</th>\n",
       "      <td>Yemen</td>\n",
       "      <td>예멘</td>\n",
       "    </tr>\n",
       "    <tr>\n",
       "      <th>ZM</th>\n",
       "      <td>Zambia</td>\n",
       "      <td>잠비아</td>\n",
       "    </tr>\n",
       "    <tr>\n",
       "      <th>ZW</th>\n",
       "      <td>Zimbabwe</td>\n",
       "      <td>짐바브웨</td>\n",
       "    </tr>\n",
       "  </tbody>\n",
       "</table>\n",
       "<p>249 rows × 2 columns</p>\n",
       "</div>"
      ],
      "text/plain": [
       "                      name kor_name\n",
       "alpha-2                            \n",
       "AF             Afghanistan   아프가니스탄\n",
       "AX           Åland Islands      NaN\n",
       "AL                 Albania     알바니아\n",
       "DZ                 Algeria      알제리\n",
       "AS          American Samoa   미국령사모아\n",
       "...                    ...      ...\n",
       "WF       Wallis and Futuna   왈리스푸트나\n",
       "EH          Western Sahara      NaN\n",
       "YE                   Yemen       예멘\n",
       "ZM                  Zambia      잠비아\n",
       "ZW                Zimbabwe     짐바브웨\n",
       "\n",
       "[249 rows x 2 columns]"
      ]
     },
     "execution_count": 2,
     "metadata": {},
     "output_type": "execute_result"
    }
   ],
   "source": [
    "iso_kor = pd.read_csv(\"data/Korea_ISO.csv\", encoding='euc-kr').iloc[1:,[0,4]] # 한글 국가명과 ISO(alpha-2) code 대응\n",
    "iso_kor.columns = ['kor_name', 'alpha-2']\n",
    "iso_kor = iso_kor.set_index('alpha-2')\n",
    "iso_eng = pd.read_csv(\"data/English_ISO.csv\").iloc[:,[0,1]].set_index('alpha-2')\n",
    "df_iso = iso_eng.join(iso_kor)\n",
    "df_iso\n",
    "# 국가 iso 코드를 이용한 한/영 변환"
   ]
  },
  {
   "cell_type": "markdown",
   "id": "dea8b017",
   "metadata": {},
   "source": [
    "## 국가별 코로나-19 확진자/사망자 통계 : 대표 `feature`들과 연관시킬 key data"
   ]
  },
  {
   "cell_type": "markdown",
   "id": "07fd6856",
   "metadata": {},
   "source": [
    "- 100,000명당 국가별 코로나-19 확진자/사망자 수"
   ]
  },
  {
   "cell_type": "code",
   "execution_count": 3,
   "id": "74ce7979",
   "metadata": {
    "scrolled": false
   },
   "outputs": [
    {
     "data": {
      "text/html": [
       "<div>\n",
       "<style scoped>\n",
       "    .dataframe tbody tr th:only-of-type {\n",
       "        vertical-align: middle;\n",
       "    }\n",
       "\n",
       "    .dataframe tbody tr th {\n",
       "        vertical-align: top;\n",
       "    }\n",
       "\n",
       "    .dataframe thead th {\n",
       "        text-align: right;\n",
       "    }\n",
       "</style>\n",
       "<table border=\"1\" class=\"dataframe\">\n",
       "  <thead>\n",
       "    <tr style=\"text-align: right;\">\n",
       "      <th></th>\n",
       "      <th>Cases</th>\n",
       "      <th>Deaths</th>\n",
       "    </tr>\n",
       "  </thead>\n",
       "  <tbody>\n",
       "    <tr>\n",
       "      <th>United States of America</th>\n",
       "      <td>281.955</td>\n",
       "      <td>2.323</td>\n",
       "    </tr>\n",
       "    <tr>\n",
       "      <th>India</th>\n",
       "      <td>3.343</td>\n",
       "      <td>0.032</td>\n",
       "    </tr>\n",
       "    <tr>\n",
       "      <th>France</th>\n",
       "      <td>175.240</td>\n",
       "      <td>0.381</td>\n",
       "    </tr>\n",
       "    <tr>\n",
       "      <th>Germany</th>\n",
       "      <td>166.394</td>\n",
       "      <td>0.066</td>\n",
       "    </tr>\n",
       "    <tr>\n",
       "      <th>Brazil</th>\n",
       "      <td>54.974</td>\n",
       "      <td>0.215</td>\n",
       "    </tr>\n",
       "    <tr>\n",
       "      <th>...</th>\n",
       "      <td>...</td>\n",
       "      <td>...</td>\n",
       "    </tr>\n",
       "    <tr>\n",
       "      <th>Curaçao</th>\n",
       "      <td>0.029</td>\n",
       "      <td>0.001</td>\n",
       "    </tr>\n",
       "    <tr>\n",
       "      <th>Aruba</th>\n",
       "      <td>0.071</td>\n",
       "      <td>0.001</td>\n",
       "    </tr>\n",
       "    <tr>\n",
       "      <th>Saint Lucia</th>\n",
       "      <td>0.038</td>\n",
       "      <td>0.001</td>\n",
       "    </tr>\n",
       "    <tr>\n",
       "      <th>Gibraltar</th>\n",
       "      <td>0.045</td>\n",
       "      <td>0.002</td>\n",
       "    </tr>\n",
       "    <tr>\n",
       "      <th>Bermuda</th>\n",
       "      <td>0.035</td>\n",
       "      <td>0.002</td>\n",
       "    </tr>\n",
       "  </tbody>\n",
       "</table>\n",
       "<p>82 rows × 2 columns</p>\n",
       "</div>"
      ],
      "text/plain": [
       "                            Cases  Deaths\n",
       "United States of America  281.955   2.323\n",
       "India                       3.343   0.032\n",
       "France                    175.240   0.381\n",
       "Germany                   166.394   0.066\n",
       "Brazil                     54.974   0.215\n",
       "...                           ...     ...\n",
       "Curaçao                     0.029   0.001\n",
       "Aruba                       0.071   0.001\n",
       "Saint Lucia                 0.038   0.001\n",
       "Gibraltar                   0.045   0.002\n",
       "Bermuda                     0.035   0.002\n",
       "\n",
       "[82 rows x 2 columns]"
      ]
     },
     "execution_count": 3,
     "metadata": {},
     "output_type": "execute_result"
    }
   ],
   "source": [
    "df_cov = pd.read_csv(\"data/WHO-COVID-19-global-table-data.csv\")\n",
    "df_cov = df_cov.iloc[1: , [3,8]]/1000 # 100,000명 당 누적 확진자수, 100,000명 당 누적 사망자 수 추출 후 %로 변환\n",
    "df_cov.columns = ['Cases','Deaths']\n",
    "df_cov = df_cov[df_cov[:] > 0] # Data가 무의미한 나라 제거\n",
    "df_cov = df_cov.dropna() # NaN Value 제거\n",
    "df_cov"
   ]
  },
  {
   "cell_type": "markdown",
   "id": "7e8980e1",
   "metadata": {},
   "source": [
    "- 코로나-19에 대한 국가별 치사율\n",
    "\n",
    "`df_cov`의 사망자 비율을 확진자 비율로 나누어 치사율(Lethality)를 계산.\n",
    "\\begin{align*}\n",
    "Lethality = \\frac{Deaths}{Cases}\n",
    "\\end{align*}\n",
    "\n",
    "\n",
    "계산한 `lethality`에 기존의 `df_cov`에서의 index를 가져와 병합해서 새로운 dataframe 생성."
   ]
  },
  {
   "cell_type": "code",
   "execution_count": 4,
   "id": "daf0f05e",
   "metadata": {
    "scrolled": false
   },
   "outputs": [
    {
     "data": {
      "text/html": [
       "<div>\n",
       "<style scoped>\n",
       "    .dataframe tbody tr th:only-of-type {\n",
       "        vertical-align: middle;\n",
       "    }\n",
       "\n",
       "    .dataframe tbody tr th {\n",
       "        vertical-align: top;\n",
       "    }\n",
       "\n",
       "    .dataframe thead th {\n",
       "        text-align: right;\n",
       "    }\n",
       "</style>\n",
       "<table border=\"1\" class=\"dataframe\">\n",
       "  <thead>\n",
       "    <tr style=\"text-align: right;\">\n",
       "      <th></th>\n",
       "      <th>Lethality</th>\n",
       "    </tr>\n",
       "  </thead>\n",
       "  <tbody>\n",
       "    <tr>\n",
       "      <th>United States of America</th>\n",
       "      <td>0.823890</td>\n",
       "    </tr>\n",
       "    <tr>\n",
       "      <th>India</th>\n",
       "      <td>0.957224</td>\n",
       "    </tr>\n",
       "    <tr>\n",
       "      <th>France</th>\n",
       "      <td>0.217416</td>\n",
       "    </tr>\n",
       "    <tr>\n",
       "      <th>Germany</th>\n",
       "      <td>0.039665</td>\n",
       "    </tr>\n",
       "    <tr>\n",
       "      <th>Brazil</th>\n",
       "      <td>0.391094</td>\n",
       "    </tr>\n",
       "  </tbody>\n",
       "</table>\n",
       "</div>"
      ],
      "text/plain": [
       "                          Lethality\n",
       "United States of America   0.823890\n",
       "India                      0.957224\n",
       "France                     0.217416\n",
       "Germany                    0.039665\n",
       "Brazil                     0.391094"
      ]
     },
     "execution_count": 4,
     "metadata": {},
     "output_type": "execute_result"
    }
   ],
   "source": [
    "lethality = (df_cov['Deaths']/df_cov['Cases'])*100\n",
    "df_lethality = pd.DataFrame(lethality)\n",
    "df_lethality.columns = ['Lethality']\n",
    "df_lethality.head()"
   ]
  },
  {
   "cell_type": "markdown",
   "id": "842fee3f",
   "metadata": {},
   "source": [
    "- 기존의 확진자/사망자 수와 치사율을 병합해 `key data` 형성"
   ]
  },
  {
   "cell_type": "code",
   "execution_count": 5,
   "id": "72bef216",
   "metadata": {
    "scrolled": false
   },
   "outputs": [
    {
     "data": {
      "text/html": [
       "<div>\n",
       "<style scoped>\n",
       "    .dataframe tbody tr th:only-of-type {\n",
       "        vertical-align: middle;\n",
       "    }\n",
       "\n",
       "    .dataframe tbody tr th {\n",
       "        vertical-align: top;\n",
       "    }\n",
       "\n",
       "    .dataframe thead th {\n",
       "        text-align: right;\n",
       "    }\n",
       "</style>\n",
       "<table border=\"1\" class=\"dataframe\">\n",
       "  <thead>\n",
       "    <tr style=\"text-align: right;\">\n",
       "      <th></th>\n",
       "      <th>Cases</th>\n",
       "      <th>Deaths</th>\n",
       "      <th>Lethality</th>\n",
       "    </tr>\n",
       "  </thead>\n",
       "  <tbody>\n",
       "    <tr>\n",
       "      <th>United States of America</th>\n",
       "      <td>281.955</td>\n",
       "      <td>2.323</td>\n",
       "      <td>0.823890</td>\n",
       "    </tr>\n",
       "    <tr>\n",
       "      <th>India</th>\n",
       "      <td>3.343</td>\n",
       "      <td>0.032</td>\n",
       "      <td>0.957224</td>\n",
       "    </tr>\n",
       "    <tr>\n",
       "      <th>France</th>\n",
       "      <td>175.240</td>\n",
       "      <td>0.381</td>\n",
       "      <td>0.217416</td>\n",
       "    </tr>\n",
       "    <tr>\n",
       "      <th>Germany</th>\n",
       "      <td>166.394</td>\n",
       "      <td>0.066</td>\n",
       "      <td>0.039665</td>\n",
       "    </tr>\n",
       "    <tr>\n",
       "      <th>Brazil</th>\n",
       "      <td>54.974</td>\n",
       "      <td>0.215</td>\n",
       "      <td>0.391094</td>\n",
       "    </tr>\n",
       "  </tbody>\n",
       "</table>\n",
       "</div>"
      ],
      "text/plain": [
       "                            Cases  Deaths  Lethality\n",
       "United States of America  281.955   2.323   0.823890\n",
       "India                       3.343   0.032   0.957224\n",
       "France                    175.240   0.381   0.217416\n",
       "Germany                   166.394   0.066   0.039665\n",
       "Brazil                     54.974   0.215   0.391094"
      ]
     },
     "execution_count": 5,
     "metadata": {},
     "output_type": "execute_result"
    }
   ],
   "source": [
    "df_covid19 = df_cov.join(df_lethality)\n",
    "df_covid19.head()"
   ]
  },
  {
   "cell_type": "markdown",
   "id": "860dd0e1",
   "metadata": {},
   "source": [
    "- Outlier 식별을 위해 boxplot 그리기"
   ]
  },
  {
   "cell_type": "code",
   "execution_count": 6,
   "id": "fce648a2",
   "metadata": {
    "scrolled": true
   },
   "outputs": [
    {
     "data": {
      "image/png": "[encoded data removed]",
      "text/plain": [
       "<Figure size 720x360 with 3 Axes>"
      ]
     },
     "metadata": {
      "needs_background": "light"
     },
     "output_type": "display_data"
    }
   ],
   "source": [
    "f, ax = plt.subplots(1,3,figsize=(10,5))\n",
    "\n",
    "ax[0].boxplot(df_covid19['Cases'])\n",
    "ax[1].boxplot(df_covid19['Deaths'])\n",
    "ax[2].boxplot(df_covid19['Lethality'])\n",
    "\n",
    "plt.show()"
   ]
  },
  {
   "cell_type": "markdown",
   "id": "3b6b36be",
   "metadata": {},
   "source": [
    "10,000명 당 확진자 수가 10,000명 이상인 outlier국가(ex.미국)들을 살펴본 결과, data가 대략 10배정도 늘어난 형태였음을 확인.\n",
    "\n",
    "10,000명 당 사망자 수가 10,00명 이상인 outlier국가(ex.미국)들을 살펴본 결과, data가 대략 10배정도 늘어난 형태였음을 확인.\n",
    "\n",
    "Lethality가 너무 높은 outlier 제거"
   ]
  },
  {
   "cell_type": "code",
   "execution_count": 7,
   "id": "e5dde6c5",
   "metadata": {},
   "outputs": [],
   "source": [
    "df_covid19['Cases'] = df_covid19['Cases'].apply(lambda x: x/10 if x > 100 else x)\n",
    "df_covid19['Deaths'] = df_covid19['Deaths'].apply(lambda x: x/10 if x > 1 else x)\n",
    "df_covid19 = df_covid19[df_covid19['Lethality']<1000]"
   ]
  },
  {
   "cell_type": "code",
   "execution_count": 8,
   "id": "4bd597af",
   "metadata": {},
   "outputs": [
    {
     "data": {
      "image/png": "[encoded data removed]",
      "text/plain": [
       "<Figure size 720x360 with 3 Axes>"
      ]
     },
     "metadata": {
      "needs_background": "light"
     },
     "output_type": "display_data"
    }
   ],
   "source": [
    "f, ax = plt.subplots(1,3,figsize=(10,5))\n",
    "\n",
    "ax[0].boxplot(df_covid19['Cases'])\n",
    "ax[1].boxplot(df_covid19['Deaths'])\n",
    "ax[2].boxplot(df_covid19['Lethality'])\n",
    "\n",
    "plt.show() # outlier 제거 확인"
   ]
  },
  {
   "cell_type": "markdown",
   "id": "387c3842",
   "metadata": {},
   "source": [
    "## 국가별 백신 접종 현황"
   ]
  },
  {
   "cell_type": "code",
   "execution_count": 9,
   "id": "af78545c",
   "metadata": {
    "scrolled": false
   },
   "outputs": [
    {
     "data": {
      "text/html": [
       "<div>\n",
       "<style scoped>\n",
       "    .dataframe tbody tr th:only-of-type {\n",
       "        vertical-align: middle;\n",
       "    }\n",
       "\n",
       "    .dataframe tbody tr th {\n",
       "        vertical-align: top;\n",
       "    }\n",
       "\n",
       "    .dataframe thead th {\n",
       "        text-align: right;\n",
       "    }\n",
       "</style>\n",
       "<table border=\"1\" class=\"dataframe\">\n",
       "  <thead>\n",
       "    <tr style=\"text-align: right;\">\n",
       "      <th></th>\n",
       "      <th>Vaccinated%</th>\n",
       "    </tr>\n",
       "    <tr>\n",
       "      <th></th>\n",
       "      <th></th>\n",
       "    </tr>\n",
       "  </thead>\n",
       "  <tbody>\n",
       "    <tr>\n",
       "      <th>Afghanistan</th>\n",
       "      <td>26.682</td>\n",
       "    </tr>\n",
       "    <tr>\n",
       "      <th>Albania</th>\n",
       "      <td>44.481</td>\n",
       "    </tr>\n",
       "    <tr>\n",
       "      <th>Algeria</th>\n",
       "      <td>14.780</td>\n",
       "    </tr>\n",
       "    <tr>\n",
       "      <th>American Samoa</th>\n",
       "      <td>75.046</td>\n",
       "    </tr>\n",
       "    <tr>\n",
       "      <th>Andorra</th>\n",
       "      <td>70.208</td>\n",
       "    </tr>\n",
       "  </tbody>\n",
       "</table>\n",
       "</div>"
      ],
      "text/plain": [
       "                Vaccinated%\n",
       "                           \n",
       "Afghanistan          26.682\n",
       "Albania              44.481\n",
       "Algeria              14.780\n",
       "American Samoa       75.046\n",
       "Andorra              70.208"
      ]
     },
     "execution_count": 9,
     "metadata": {},
     "output_type": "execute_result"
    }
   ],
   "source": [
    "df_vac = pd.read_csv('data/vaccination-data.csv')\n",
    "df_vac = df_vac[['COUNTRY','PERSONS_FULLY_VACCINATED_PER100']].dropna() # 국가별 백신 접종률(%) 추출/NaN value 제거\n",
    "df_vac.columns = ['','Vaccinated%']\n",
    "df_vac = df_vac[df_vac['Vaccinated%'] <100]\n",
    "df_vac = df_vac[df_vac['Vaccinated%'] > 1] # Data가 무의미(0에 근접 or 100이상)한 나라 제거\n",
    "df_vac = df_vac.set_index('')\n",
    "df_vac.head()"
   ]
  },
  {
   "cell_type": "markdown",
   "id": "b849ece4",
   "metadata": {},
   "source": [
    "- `key data`와 국가별 백신접종 현황 병합"
   ]
  },
  {
   "cell_type": "code",
   "execution_count": 10,
   "id": "7ddd77ca",
   "metadata": {
    "scrolled": false
   },
   "outputs": [
    {
     "data": {
      "text/html": [
       "<div>\n",
       "<style scoped>\n",
       "    .dataframe tbody tr th:only-of-type {\n",
       "        vertical-align: middle;\n",
       "    }\n",
       "\n",
       "    .dataframe tbody tr th {\n",
       "        vertical-align: top;\n",
       "    }\n",
       "\n",
       "    .dataframe thead th {\n",
       "        text-align: right;\n",
       "    }\n",
       "</style>\n",
       "<table border=\"1\" class=\"dataframe\">\n",
       "  <thead>\n",
       "    <tr style=\"text-align: right;\">\n",
       "      <th></th>\n",
       "      <th>Vaccinated%</th>\n",
       "      <th>Cases</th>\n",
       "      <th>Deaths</th>\n",
       "      <th>Lethality</th>\n",
       "    </tr>\n",
       "  </thead>\n",
       "  <tbody>\n",
       "    <tr>\n",
       "      <th>Albania</th>\n",
       "      <td>44.481</td>\n",
       "      <td>0.127</td>\n",
       "      <td>0.001</td>\n",
       "      <td>0.787402</td>\n",
       "    </tr>\n",
       "    <tr>\n",
       "      <th>Andorra</th>\n",
       "      <td>70.208</td>\n",
       "      <td>0.160</td>\n",
       "      <td>0.001</td>\n",
       "      <td>0.625000</td>\n",
       "    </tr>\n",
       "    <tr>\n",
       "      <th>Argentina</th>\n",
       "      <td>83.725</td>\n",
       "      <td>1.486</td>\n",
       "      <td>0.008</td>\n",
       "      <td>0.538358</td>\n",
       "    </tr>\n",
       "    <tr>\n",
       "      <th>Aruba</th>\n",
       "      <td>78.414</td>\n",
       "      <td>0.071</td>\n",
       "      <td>0.001</td>\n",
       "      <td>1.408451</td>\n",
       "    </tr>\n",
       "    <tr>\n",
       "      <th>Austria</th>\n",
       "      <td>74.953</td>\n",
       "      <td>24.840</td>\n",
       "      <td>0.037</td>\n",
       "      <td>0.148953</td>\n",
       "    </tr>\n",
       "  </tbody>\n",
       "</table>\n",
       "</div>"
      ],
      "text/plain": [
       "           Vaccinated%   Cases  Deaths  Lethality\n",
       "Albania         44.481   0.127   0.001   0.787402\n",
       "Andorra         70.208   0.160   0.001   0.625000\n",
       "Argentina       83.725   1.486   0.008   0.538358\n",
       "Aruba           78.414   0.071   0.001   1.408451\n",
       "Austria         74.953  24.840   0.037   0.148953"
      ]
     },
     "execution_count": 10,
     "metadata": {},
     "output_type": "execute_result"
    }
   ],
   "source": [
    "join_vac = df_vac.join(df_covid19, how='inner') # 백신 접종 현황과 확진자/사망자/치사율 data 병합\n",
    "join_vac.head()"
   ]
  },
  {
   "cell_type": "markdown",
   "id": "74be52ec",
   "metadata": {},
   "source": [
    "### 국가별 백신 접종률과 코로나-19 확진자/사망자/치사율의 상관관계"
   ]
  },
  {
   "cell_type": "code",
   "execution_count": 11,
   "id": "2131a5eb",
   "metadata": {
    "scrolled": true
   },
   "outputs": [
    {
     "data": {
      "image/png": "[encoded data removed]",
      "text/plain": [
       "<Figure size 1440x360 with 3 Axes>"
      ]
     },
     "metadata": {
      "needs_background": "light"
     },
     "output_type": "display_data"
    }
   ],
   "source": [
    "f, ax = plt.subplots(1,3, figsize=(20,5))\n",
    "\n",
    "# Linear Regression을 활용해 선형 모델에 fitting\n",
    "lr = LinearRegression()\n",
    "\n",
    "x_val = ['Cases','Deaths','Lethality']\n",
    "m = min(join_vac['Vaccinated%'])\n",
    "\n",
    "for n in range(3):\n",
    "    ax[n].scatter(join_vac['Vaccinated%'],join_vac[x_val[n]])\n",
    "    x_train = np.array(join_vac['Vaccinated%']).reshape(-1,1)\n",
    "    y_train = np.array(join_vac[x_val[n]]).reshape(-1,1)\n",
    "    lr.fit(x_train,y_train)\n",
    "    ax[n].plot([m,100], [m*float(lr.coef_) + lr.intercept_ , 100*lr.coef_ + lr.intercept_])\n",
    "    ax[n].set_xlabel('Vaccination(%)', fontsize=16)\n",
    "    ax[n].set_ylabel(x_val[n], fontsize=16)\n",
    "\n",
    "plt.show()"
   ]
  },
  {
   "cell_type": "markdown",
   "id": "06b15b93",
   "metadata": {},
   "source": [
    "## 국가별 개인 건강상태 지표\n",
    "\n",
    "1. 국가별 개인의 건강한 삶의 기대값(years)"
   ]
  },
  {
   "cell_type": "code",
   "execution_count": 12,
   "id": "d6caa796",
   "metadata": {
    "scrolled": true
   },
   "outputs": [
    {
     "data": {
      "text/html": [
       "<div>\n",
       "<style scoped>\n",
       "    .dataframe tbody tr th:only-of-type {\n",
       "        vertical-align: middle;\n",
       "    }\n",
       "\n",
       "    .dataframe tbody tr th {\n",
       "        vertical-align: top;\n",
       "    }\n",
       "\n",
       "    .dataframe thead th {\n",
       "        text-align: right;\n",
       "    }\n",
       "</style>\n",
       "<table border=\"1\" class=\"dataframe\">\n",
       "  <thead>\n",
       "    <tr style=\"text-align: right;\">\n",
       "      <th></th>\n",
       "      <th>Healthy life expectancy</th>\n",
       "    </tr>\n",
       "    <tr>\n",
       "      <th></th>\n",
       "      <th></th>\n",
       "    </tr>\n",
       "  </thead>\n",
       "  <tbody>\n",
       "    <tr>\n",
       "      <th>Afghanistan</th>\n",
       "      <td>53.9</td>\n",
       "    </tr>\n",
       "    <tr>\n",
       "      <th>Albania</th>\n",
       "      <td>69.1</td>\n",
       "    </tr>\n",
       "    <tr>\n",
       "      <th>Algeria</th>\n",
       "      <td>66.4</td>\n",
       "    </tr>\n",
       "    <tr>\n",
       "      <th>Angola</th>\n",
       "      <td>54.8</td>\n",
       "    </tr>\n",
       "    <tr>\n",
       "      <th>Antigua and Barbuda</th>\n",
       "      <td>67</td>\n",
       "    </tr>\n",
       "  </tbody>\n",
       "</table>\n",
       "</div>"
      ],
      "text/plain": [
       "                    Healthy life expectancy\n",
       "                                           \n",
       "Afghanistan                            53.9\n",
       "Albania                                69.1\n",
       "Algeria                                66.4\n",
       "Angola                                 54.8\n",
       "Antigua and Barbuda                      67"
      ]
     },
     "execution_count": 12,
     "metadata": {},
     "output_type": "execute_result"
    }
   ],
   "source": [
    "with pd.ExcelFile(\"data/whs2022.xlsx\") as xls:\n",
    "    df_whs1 = pd.read_excel(xls, \"Annex 2-1\")\n",
    "df_whs1 = df_whs1.iloc[4:,[0,9]] # 국가별 개인의 건강한 삶의 기대값(years) 추출\n",
    "df_whs1 = df_whs1[df_whs1 != '-'] # data값이 '-'로 표시된 나라를 NaN Value로 변경\n",
    "df_whs1 = df_whs1.dropna() # NaN Value 제거\n",
    "df_whs1.columns = ['','Healthy life expectancy']\n",
    "df_whs1 = df_whs1.set_index('')\n",
    "df_whs1.head()"
   ]
  },
  {
   "cell_type": "markdown",
   "id": "52b2179d",
   "metadata": {},
   "source": [
    "- `key data`와 국가별 개인의 건강한 삶의 기댓값 병합"
   ]
  },
  {
   "cell_type": "code",
   "execution_count": 13,
   "id": "f2264ae4",
   "metadata": {
    "scrolled": false
   },
   "outputs": [
    {
     "data": {
      "text/html": [
       "<div>\n",
       "<style scoped>\n",
       "    .dataframe tbody tr th:only-of-type {\n",
       "        vertical-align: middle;\n",
       "    }\n",
       "\n",
       "    .dataframe tbody tr th {\n",
       "        vertical-align: top;\n",
       "    }\n",
       "\n",
       "    .dataframe thead th {\n",
       "        text-align: right;\n",
       "    }\n",
       "</style>\n",
       "<table border=\"1\" class=\"dataframe\">\n",
       "  <thead>\n",
       "    <tr style=\"text-align: right;\">\n",
       "      <th></th>\n",
       "      <th>Healthy life expectancy</th>\n",
       "      <th>Cases</th>\n",
       "      <th>Deaths</th>\n",
       "      <th>Lethality</th>\n",
       "    </tr>\n",
       "  </thead>\n",
       "  <tbody>\n",
       "    <tr>\n",
       "      <th>Albania</th>\n",
       "      <td>69.1</td>\n",
       "      <td>0.127</td>\n",
       "      <td>0.001</td>\n",
       "      <td>0.787402</td>\n",
       "    </tr>\n",
       "    <tr>\n",
       "      <th>Argentina</th>\n",
       "      <td>67.1</td>\n",
       "      <td>1.486</td>\n",
       "      <td>0.008</td>\n",
       "      <td>0.538358</td>\n",
       "    </tr>\n",
       "    <tr>\n",
       "      <th>Austria</th>\n",
       "      <td>70.9</td>\n",
       "      <td>24.840</td>\n",
       "      <td>0.037</td>\n",
       "      <td>0.148953</td>\n",
       "    </tr>\n",
       "    <tr>\n",
       "      <th>Azerbaijan</th>\n",
       "      <td>63.6</td>\n",
       "      <td>0.221</td>\n",
       "      <td>0.010</td>\n",
       "      <td>4.524887</td>\n",
       "    </tr>\n",
       "    <tr>\n",
       "      <th>Bahrain</th>\n",
       "      <td>65.9</td>\n",
       "      <td>1.087</td>\n",
       "      <td>0.002</td>\n",
       "      <td>0.183993</td>\n",
       "    </tr>\n",
       "  </tbody>\n",
       "</table>\n",
       "</div>"
      ],
      "text/plain": [
       "           Healthy life expectancy   Cases  Deaths  Lethality\n",
       "Albania                       69.1   0.127   0.001   0.787402\n",
       "Argentina                     67.1   1.486   0.008   0.538358\n",
       "Austria                       70.9  24.840   0.037   0.148953\n",
       "Azerbaijan                    63.6   0.221   0.010   4.524887\n",
       "Bahrain                       65.9   1.087   0.002   0.183993"
      ]
     },
     "execution_count": 13,
     "metadata": {},
     "output_type": "execute_result"
    }
   ],
   "source": [
    "join_life = df_whs1.join(df_covid19, how='inner') # 백신 접종 현황과 확진자/사망자/치사율 data 병합\n",
    "join_life.head()"
   ]
  },
  {
   "cell_type": "markdown",
   "id": "a1e4183d",
   "metadata": {},
   "source": [
    "### 국가별 기대 수명과 코로나-19 확진자/사망자/치사율의 상관관계"
   ]
  },
  {
   "cell_type": "code",
   "execution_count": 14,
   "id": "5b6794ae",
   "metadata": {
    "scrolled": true
   },
   "outputs": [
    {
     "data": {
      "image/png": "[encoded data removed]",
      "text/plain": [
       "<Figure size 1440x360 with 3 Axes>"
      ]
     },
     "metadata": {
      "needs_background": "light"
     },
     "output_type": "display_data"
    }
   ],
   "source": [
    "f, ax = plt.subplots(1,3, figsize=(20,5))\n",
    "\n",
    "# Linear Regression을 활용해 선형 모델에 fitting\n",
    "lr = LinearRegression()\n",
    "\n",
    "x_val = ['Cases','Deaths','Lethality']\n",
    "m = min(join_life['Healthy life expectancy'])\n",
    "mx = max(join_life['Healthy life expectancy'])\n",
    "\n",
    "for n in range(3):\n",
    "    ax[n].scatter(join_life['Healthy life expectancy'],join_life[x_val[n]])\n",
    "    x_train = np.array(join_life['Healthy life expectancy']).reshape(-1,1)\n",
    "    y_train = np.array(join_life[x_val[n]]).reshape(-1,1)\n",
    "    lr.fit(x_train,y_train)\n",
    "    ax[n].plot([m,mx], [m*float(lr.coef_) + lr.intercept_ , mx*lr.coef_ + lr.intercept_])\n",
    "    ax[n].set_xlabel('Healthy life expectancy', fontsize=16)\n",
    "    ax[n].set_ylabel(x_val[n], fontsize=16)\n",
    "\n",
    "plt.show()"
   ]
  },
  {
   "cell_type": "markdown",
   "id": "d63d6457",
   "metadata": {},
   "source": [
    "2. 국가별 안전한(정수된) 물을 사용하는 인구 비율(%)"
   ]
  },
  {
   "cell_type": "code",
   "execution_count": 15,
   "id": "5ac1e019",
   "metadata": {
    "scrolled": true
   },
   "outputs": [
    {
     "data": {
      "text/html": [
       "<div>\n",
       "<style scoped>\n",
       "    .dataframe tbody tr th:only-of-type {\n",
       "        vertical-align: middle;\n",
       "    }\n",
       "\n",
       "    .dataframe tbody tr th {\n",
       "        vertical-align: top;\n",
       "    }\n",
       "\n",
       "    .dataframe thead th {\n",
       "        text-align: right;\n",
       "    }\n",
       "</style>\n",
       "<table border=\"1\" class=\"dataframe\">\n",
       "  <thead>\n",
       "    <tr style=\"text-align: right;\">\n",
       "      <th></th>\n",
       "      <th>% using safe water</th>\n",
       "    </tr>\n",
       "    <tr>\n",
       "      <th></th>\n",
       "      <th></th>\n",
       "    </tr>\n",
       "  </thead>\n",
       "  <tbody>\n",
       "    <tr>\n",
       "      <th>Afghanistan</th>\n",
       "      <td>28</td>\n",
       "    </tr>\n",
       "    <tr>\n",
       "      <th>Albania</th>\n",
       "      <td>71</td>\n",
       "    </tr>\n",
       "    <tr>\n",
       "      <th>Algeria</th>\n",
       "      <td>72</td>\n",
       "    </tr>\n",
       "    <tr>\n",
       "      <th>Andorra</th>\n",
       "      <td>91</td>\n",
       "    </tr>\n",
       "    <tr>\n",
       "      <th>Armenia</th>\n",
       "      <td>87</td>\n",
       "    </tr>\n",
       "    <tr>\n",
       "      <th>...</th>\n",
       "      <td>...</td>\n",
       "    </tr>\n",
       "    <tr>\n",
       "      <th>African Region</th>\n",
       "      <td>32</td>\n",
       "    </tr>\n",
       "    <tr>\n",
       "      <th>Region of the Americas</th>\n",
       "      <td>81</td>\n",
       "    </tr>\n",
       "    <tr>\n",
       "      <th>European Region</th>\n",
       "      <td>92</td>\n",
       "    </tr>\n",
       "    <tr>\n",
       "      <th>Eastern Mediterranean Region</th>\n",
       "      <td>56</td>\n",
       "    </tr>\n",
       "    <tr>\n",
       "      <th>Global</th>\n",
       "      <td>74</td>\n",
       "    </tr>\n",
       "  </tbody>\n",
       "</table>\n",
       "<p>103 rows × 1 columns</p>\n",
       "</div>"
      ],
      "text/plain": [
       "                             % using safe water\n",
       "                                               \n",
       "Afghanistan                                  28\n",
       "Albania                                      71\n",
       "Algeria                                      72\n",
       "Andorra                                      91\n",
       "Armenia                                      87\n",
       "...                                         ...\n",
       "African Region                               32\n",
       "Region of the Americas                       81\n",
       "European Region                              92\n",
       "Eastern Mediterranean Region                 56\n",
       "Global                                       74\n",
       "\n",
       "[103 rows x 1 columns]"
      ]
     },
     "execution_count": 15,
     "metadata": {},
     "output_type": "execute_result"
    }
   ],
   "source": [
    "with pd.ExcelFile(\"data/whs2022.xlsx\") as xls:\n",
    "    df_whs2 = pd.read_excel(xls, \"Annex 2-4\")\n",
    "df_whs2 = df_whs2.iloc[4:,[0,10]] # 국가별 정수된 물을 사용하는 인구 비율(%) 추출\n",
    "df_whs2 = df_whs2[df_whs2 != '-'] # data값이 '-'로 표시된 나라를 NaN Value로 변경\n",
    "df_whs2 = df_whs2.dropna() # NaN Value 제거\n",
    "df_whs2.columns = ['','% using safe water']\n",
    "df_whs2 = df_whs2[df_whs2['% using safe water'] <100] # 100%가 넘는 값(trash data) 제거\n",
    "df_whs2 = df_whs2[df_whs2['% using safe water'] >0] # 0%인 data 제거\n",
    "df_whs2 = df_whs2.set_index('')\n",
    "df_whs2"
   ]
  },
  {
   "cell_type": "markdown",
   "id": "f422e335",
   "metadata": {},
   "source": [
    "- `key data`와 국가별 안전한(정수된) 물을 사용하는 인구 비율 병합"
   ]
  },
  {
   "cell_type": "code",
   "execution_count": 16,
   "id": "5c4e386c",
   "metadata": {
    "scrolled": true
   },
   "outputs": [
    {
     "data": {
      "text/html": [
       "<div>\n",
       "<style scoped>\n",
       "    .dataframe tbody tr th:only-of-type {\n",
       "        vertical-align: middle;\n",
       "    }\n",
       "\n",
       "    .dataframe tbody tr th {\n",
       "        vertical-align: top;\n",
       "    }\n",
       "\n",
       "    .dataframe thead th {\n",
       "        text-align: right;\n",
       "    }\n",
       "</style>\n",
       "<table border=\"1\" class=\"dataframe\">\n",
       "  <thead>\n",
       "    <tr style=\"text-align: right;\">\n",
       "      <th></th>\n",
       "      <th>% using safe water</th>\n",
       "      <th>Cases</th>\n",
       "      <th>Deaths</th>\n",
       "      <th>Lethality</th>\n",
       "    </tr>\n",
       "  </thead>\n",
       "  <tbody>\n",
       "    <tr>\n",
       "      <th>Albania</th>\n",
       "      <td>71</td>\n",
       "      <td>0.127</td>\n",
       "      <td>0.001</td>\n",
       "      <td>0.787402</td>\n",
       "    </tr>\n",
       "    <tr>\n",
       "      <th>Andorra</th>\n",
       "      <td>91</td>\n",
       "      <td>0.160</td>\n",
       "      <td>0.001</td>\n",
       "      <td>0.625000</td>\n",
       "    </tr>\n",
       "    <tr>\n",
       "      <th>Austria</th>\n",
       "      <td>99</td>\n",
       "      <td>24.840</td>\n",
       "      <td>0.037</td>\n",
       "      <td>0.148953</td>\n",
       "    </tr>\n",
       "    <tr>\n",
       "      <th>Azerbaijan</th>\n",
       "      <td>88</td>\n",
       "      <td>0.221</td>\n",
       "      <td>0.010</td>\n",
       "      <td>4.524887</td>\n",
       "    </tr>\n",
       "    <tr>\n",
       "      <th>Bahrain</th>\n",
       "      <td>99</td>\n",
       "      <td>1.087</td>\n",
       "      <td>0.002</td>\n",
       "      <td>0.183993</td>\n",
       "    </tr>\n",
       "  </tbody>\n",
       "</table>\n",
       "</div>"
      ],
      "text/plain": [
       "           % using safe water   Cases  Deaths  Lethality\n",
       "Albania                    71   0.127   0.001   0.787402\n",
       "Andorra                    91   0.160   0.001   0.625000\n",
       "Austria                    99  24.840   0.037   0.148953\n",
       "Azerbaijan                 88   0.221   0.010   4.524887\n",
       "Bahrain                    99   1.087   0.002   0.183993"
      ]
     },
     "execution_count": 16,
     "metadata": {},
     "output_type": "execute_result"
    }
   ],
   "source": [
    "join_water = df_whs2.join(df_covid19, how='inner') # 백신 접종 현황과 확진자/사망자/치사율 data 병합\n",
    "join_water.head()"
   ]
  },
  {
   "cell_type": "markdown",
   "id": "f1f36a22",
   "metadata": {},
   "source": [
    "### 국가별 정수된 물 사용과 코로나-19 확진자/사망자/치사율의 상관관계"
   ]
  },
  {
   "cell_type": "code",
   "execution_count": 17,
   "id": "2accab4d",
   "metadata": {
    "scrolled": false
   },
   "outputs": [
    {
     "data": {
      "image/png": "[encoded data removed]",
      "text/plain": [
       "<Figure size 1440x360 with 3 Axes>"
      ]
     },
     "metadata": {
      "needs_background": "light"
     },
     "output_type": "display_data"
    }
   ],
   "source": [
    "f, ax = plt.subplots(1,3, figsize=(20,5))\n",
    "\n",
    "# Linear Regression을 활용해 선형 모델에 fitting\n",
    "lr = LinearRegression()\n",
    "\n",
    "x_val = ['Cases','Deaths','Lethality']\n",
    "m = min(join_water['% using safe water'])\n",
    "mx = max(join_water['% using safe water'])\n",
    "\n",
    "for n in range(3):\n",
    "    ax[n].scatter(join_water['% using safe water'],join_water[x_val[n]])\n",
    "    x_train = np.array(join_water['% using safe water']).reshape(-1,1)\n",
    "    y_train = np.array(join_water[x_val[n]]).reshape(-1,1)\n",
    "    lr.fit(x_train,y_train)\n",
    "    ax[n].plot([m,mx], [m*float(lr.coef_) + lr.intercept_ , mx*lr.coef_ + lr.intercept_])\n",
    "    ax[n].set_xlabel('% using safe water', fontsize=16)\n",
    "    ax[n].set_ylabel(x_val[n], fontsize=16)\n",
    "\n",
    "plt.show()"
   ]
  },
  {
   "cell_type": "markdown",
   "id": "430f3d44",
   "metadata": {},
   "source": [
    "## 국가별 의료 종사자 비율"
   ]
  },
  {
   "cell_type": "code",
   "execution_count": 18,
   "id": "1327aa02",
   "metadata": {
    "scrolled": true
   },
   "outputs": [
    {
     "data": {
      "text/html": [
       "<div>\n",
       "<style scoped>\n",
       "    .dataframe tbody tr th:only-of-type {\n",
       "        vertical-align: middle;\n",
       "    }\n",
       "\n",
       "    .dataframe tbody tr th {\n",
       "        vertical-align: top;\n",
       "    }\n",
       "\n",
       "    .dataframe thead th {\n",
       "        text-align: right;\n",
       "    }\n",
       "</style>\n",
       "<table border=\"1\" class=\"dataframe\">\n",
       "  <thead>\n",
       "    <tr style=\"text-align: right;\">\n",
       "      <th></th>\n",
       "      <th>Density of doctors</th>\n",
       "    </tr>\n",
       "    <tr>\n",
       "      <th></th>\n",
       "      <th></th>\n",
       "    </tr>\n",
       "  </thead>\n",
       "  <tbody>\n",
       "    <tr>\n",
       "      <th>Afghanistan</th>\n",
       "      <td>2.5</td>\n",
       "    </tr>\n",
       "    <tr>\n",
       "      <th>Albania</th>\n",
       "      <td>18.8</td>\n",
       "    </tr>\n",
       "    <tr>\n",
       "      <th>Algeria</th>\n",
       "      <td>17.2</td>\n",
       "    </tr>\n",
       "    <tr>\n",
       "      <th>Andorra</th>\n",
       "      <td>33.3</td>\n",
       "    </tr>\n",
       "    <tr>\n",
       "      <th>Angola</th>\n",
       "      <td>2.1</td>\n",
       "    </tr>\n",
       "  </tbody>\n",
       "</table>\n",
       "</div>"
      ],
      "text/plain": [
       "            Density of doctors\n",
       "                              \n",
       "Afghanistan                2.5\n",
       "Albania                   18.8\n",
       "Algeria                   17.2\n",
       "Andorra                   33.3\n",
       "Angola                     2.1"
      ]
     },
     "execution_count": 18,
     "metadata": {},
     "output_type": "execute_result"
    }
   ],
   "source": [
    "with pd.ExcelFile(\"data/whs2022.xlsx\") as xls:\n",
    "    df_doc = pd.read_excel(xls, \"Annex 2-3\")\n",
    "df_doc = df_doc.iloc[4:,[0,10]] # 국가별 10,000명 당 의료 종사자 수 추출\n",
    "df_doc = df_doc[df_doc != '-'] # data값이 '-'로 표시된 나라를 NaN Value로 변경\n",
    "df_doc = df_doc.dropna() # NaN Value 제거\n",
    "df_doc.columns = ['','Density of doctors']\n",
    "df_doc = df_doc[df_doc['Density of doctors'] >0.1] # 0인 data 제거\n",
    "df_doc = df_doc.set_index('')\n",
    "df_doc.head()"
   ]
  },
  {
   "cell_type": "markdown",
   "id": "f092a498",
   "metadata": {},
   "source": [
    "- `key data`와 국가별 의료 종사자 비율 병합"
   ]
  },
  {
   "cell_type": "code",
   "execution_count": 19,
   "id": "996b6b2c",
   "metadata": {
    "scrolled": true
   },
   "outputs": [
    {
     "data": {
      "text/html": [
       "<div>\n",
       "<style scoped>\n",
       "    .dataframe tbody tr th:only-of-type {\n",
       "        vertical-align: middle;\n",
       "    }\n",
       "\n",
       "    .dataframe tbody tr th {\n",
       "        vertical-align: top;\n",
       "    }\n",
       "\n",
       "    .dataframe thead th {\n",
       "        text-align: right;\n",
       "    }\n",
       "</style>\n",
       "<table border=\"1\" class=\"dataframe\">\n",
       "  <thead>\n",
       "    <tr style=\"text-align: right;\">\n",
       "      <th></th>\n",
       "      <th>Density of doctors</th>\n",
       "      <th>Cases</th>\n",
       "      <th>Deaths</th>\n",
       "      <th>Lethality</th>\n",
       "    </tr>\n",
       "  </thead>\n",
       "  <tbody>\n",
       "    <tr>\n",
       "      <th>Albania</th>\n",
       "      <td>18.8</td>\n",
       "      <td>0.1270</td>\n",
       "      <td>0.0010</td>\n",
       "      <td>0.787402</td>\n",
       "    </tr>\n",
       "    <tr>\n",
       "      <th>Andorra</th>\n",
       "      <td>33.3</td>\n",
       "      <td>0.1600</td>\n",
       "      <td>0.0010</td>\n",
       "      <td>0.625000</td>\n",
       "    </tr>\n",
       "    <tr>\n",
       "      <th>Argentina</th>\n",
       "      <td>40.6</td>\n",
       "      <td>1.4860</td>\n",
       "      <td>0.0080</td>\n",
       "      <td>0.538358</td>\n",
       "    </tr>\n",
       "    <tr>\n",
       "      <th>Austria</th>\n",
       "      <td>52.9</td>\n",
       "      <td>24.8400</td>\n",
       "      <td>0.0370</td>\n",
       "      <td>0.148953</td>\n",
       "    </tr>\n",
       "    <tr>\n",
       "      <th>Azerbaijan</th>\n",
       "      <td>31.7</td>\n",
       "      <td>0.2210</td>\n",
       "      <td>0.0100</td>\n",
       "      <td>4.524887</td>\n",
       "    </tr>\n",
       "    <tr>\n",
       "      <th>...</th>\n",
       "      <td>...</td>\n",
       "      <td>...</td>\n",
       "      <td>...</td>\n",
       "      <td>...</td>\n",
       "    </tr>\n",
       "    <tr>\n",
       "      <th>Ukraine</th>\n",
       "      <td>29.9</td>\n",
       "      <td>7.3170</td>\n",
       "      <td>0.1030</td>\n",
       "      <td>1.407681</td>\n",
       "    </tr>\n",
       "    <tr>\n",
       "      <th>United States of America</th>\n",
       "      <td>26.1</td>\n",
       "      <td>28.1955</td>\n",
       "      <td>0.2323</td>\n",
       "      <td>0.823890</td>\n",
       "    </tr>\n",
       "    <tr>\n",
       "      <th>Uruguay</th>\n",
       "      <td>49.4</td>\n",
       "      <td>0.8160</td>\n",
       "      <td>0.0030</td>\n",
       "      <td>0.367647</td>\n",
       "    </tr>\n",
       "    <tr>\n",
       "      <th>Venezuela (Bolivarian Republic of)</th>\n",
       "      <td>17.3</td>\n",
       "      <td>0.3520</td>\n",
       "      <td>0.0020</td>\n",
       "      <td>0.568182</td>\n",
       "    </tr>\n",
       "    <tr>\n",
       "      <th>Viet Nam</th>\n",
       "      <td>8.3</td>\n",
       "      <td>2.8510</td>\n",
       "      <td>0.0010</td>\n",
       "      <td>0.035075</td>\n",
       "    </tr>\n",
       "  </tbody>\n",
       "</table>\n",
       "<p>74 rows × 4 columns</p>\n",
       "</div>"
      ],
      "text/plain": [
       "                                   Density of doctors    Cases  Deaths  \\\n",
       "Albania                                          18.8   0.1270  0.0010   \n",
       "Andorra                                          33.3   0.1600  0.0010   \n",
       "Argentina                                        40.6   1.4860  0.0080   \n",
       "Austria                                          52.9  24.8400  0.0370   \n",
       "Azerbaijan                                       31.7   0.2210  0.0100   \n",
       "...                                               ...      ...     ...   \n",
       "Ukraine                                          29.9   7.3170  0.1030   \n",
       "United States of America                         26.1  28.1955  0.2323   \n",
       "Uruguay                                          49.4   0.8160  0.0030   \n",
       "Venezuela (Bolivarian Republic of)               17.3   0.3520  0.0020   \n",
       "Viet Nam                                          8.3   2.8510  0.0010   \n",
       "\n",
       "                                    Lethality  \n",
       "Albania                              0.787402  \n",
       "Andorra                              0.625000  \n",
       "Argentina                            0.538358  \n",
       "Austria                              0.148953  \n",
       "Azerbaijan                           4.524887  \n",
       "...                                       ...  \n",
       "Ukraine                              1.407681  \n",
       "United States of America             0.823890  \n",
       "Uruguay                              0.367647  \n",
       "Venezuela (Bolivarian Republic of)   0.568182  \n",
       "Viet Nam                             0.035075  \n",
       "\n",
       "[74 rows x 4 columns]"
      ]
     },
     "execution_count": 19,
     "metadata": {},
     "output_type": "execute_result"
    }
   ],
   "source": [
    "join_doc = df_doc.join(df_covid19, how='inner') # 의료 종사자 비율과 확진자/사망자/치사율 data 병합\n",
    "join_doc"
   ]
  },
  {
   "cell_type": "markdown",
   "id": "2fb1769c",
   "metadata": {},
   "source": [
    "### 국가별 의료종사자 비율과 코로나-19 확진자/사망자/치사율의 상관관계"
   ]
  },
  {
   "cell_type": "code",
   "execution_count": 20,
   "id": "cea55fa0",
   "metadata": {
    "scrolled": true
   },
   "outputs": [
    {
     "data": {
      "image/png": "[encoded data removed]",
      "text/plain": [
       "<Figure size 1440x360 with 3 Axes>"
      ]
     },
     "metadata": {
      "needs_background": "light"
     },
     "output_type": "display_data"
    }
   ],
   "source": [
    "f, ax = plt.subplots(1,3, figsize=(20,5))\n",
    "\n",
    "# Linear Regression을 활용해 선형 모델에 fitting\n",
    "lr = LinearRegression()\n",
    "\n",
    "x_val = ['Cases','Deaths','Lethality']\n",
    "m = min(join_doc['Density of doctors'])\n",
    "mx = max(join_doc['Density of doctors'])\n",
    "\n",
    "for n in range(3):\n",
    "    ax[n].scatter(join_doc['Density of doctors'],join_doc[x_val[n]])\n",
    "    x_train = np.array(join_doc['Density of doctors']).reshape(-1,1)\n",
    "    y_train = np.array(join_doc[x_val[n]]).reshape(-1,1)\n",
    "    lr.fit(x_train,y_train)\n",
    "    ax[n].plot([m,mx], [m*float(lr.coef_) + lr.intercept_ , mx*lr.coef_ + lr.intercept_])\n",
    "    ax[n].set_xlabel('Density of doctors', fontsize=16)\n",
    "    ax[n].set_ylabel(x_val[n], fontsize=16)\n",
    "\n",
    "plt.show()"
   ]
  },
  {
   "cell_type": "markdown",
   "id": "f3c15598",
   "metadata": {},
   "source": [
    "## 국가별 흡연율"
   ]
  },
  {
   "cell_type": "code",
   "execution_count": 21,
   "id": "98d0811d",
   "metadata": {
    "scrolled": true
   },
   "outputs": [
    {
     "data": {
      "text/html": [
       "<div>\n",
       "<style scoped>\n",
       "    .dataframe tbody tr th:only-of-type {\n",
       "        vertical-align: middle;\n",
       "    }\n",
       "\n",
       "    .dataframe tbody tr th {\n",
       "        vertical-align: top;\n",
       "    }\n",
       "\n",
       "    .dataframe thead th {\n",
       "        text-align: right;\n",
       "    }\n",
       "</style>\n",
       "<table border=\"1\" class=\"dataframe\">\n",
       "  <thead>\n",
       "    <tr style=\"text-align: right;\">\n",
       "      <th></th>\n",
       "      <th>Smokers(%)</th>\n",
       "    </tr>\n",
       "    <tr>\n",
       "      <th></th>\n",
       "      <th></th>\n",
       "    </tr>\n",
       "  </thead>\n",
       "  <tbody>\n",
       "    <tr>\n",
       "      <th>Afghanistan</th>\n",
       "      <td>23.3</td>\n",
       "    </tr>\n",
       "    <tr>\n",
       "      <th>Albania</th>\n",
       "      <td>22.4</td>\n",
       "    </tr>\n",
       "    <tr>\n",
       "      <th>Algeria</th>\n",
       "      <td>21</td>\n",
       "    </tr>\n",
       "    <tr>\n",
       "      <th>Andorra</th>\n",
       "      <td>31.8</td>\n",
       "    </tr>\n",
       "    <tr>\n",
       "      <th>Argentina</th>\n",
       "      <td>24.5</td>\n",
       "    </tr>\n",
       "  </tbody>\n",
       "</table>\n",
       "</div>"
      ],
      "text/plain": [
       "            Smokers(%)\n",
       "                      \n",
       "Afghanistan       23.3\n",
       "Albania           22.4\n",
       "Algeria             21\n",
       "Andorra           31.8\n",
       "Argentina         24.5"
      ]
     },
     "execution_count": 21,
     "metadata": {},
     "output_type": "execute_result"
    }
   ],
   "source": [
    "with pd.ExcelFile(\"data/whs2022.xlsx\") as xls:\n",
    "    df_smkr = pd.read_excel(xls, \"Annex 2-3\")\n",
    "df_smkr = df_smkr.iloc[4:,[0,1]] # 국가별 흡연율 추출\n",
    "df_smkr = df_smkr[df_smkr != '-'] # data값이 '-'로 표시된 나라를 NaN Value로 변경\n",
    "df_smkr = df_smkr.dropna() # NaN Value 제거\n",
    "df_smkr.columns = ['','Smokers(%)']\n",
    "df_smkr = df_smkr[df_smkr['Smokers(%)'] >0.1] # 0%인 data 제거\n",
    "df_smkr = df_smkr.set_index('')\n",
    "df_smkr.head()"
   ]
  },
  {
   "cell_type": "markdown",
   "id": "97725e62",
   "metadata": {},
   "source": [
    "- `key data`와 국가별 흡연율 병합"
   ]
  },
  {
   "cell_type": "code",
   "execution_count": 22,
   "id": "2ddfcb4f",
   "metadata": {
    "scrolled": true
   },
   "outputs": [
    {
     "data": {
      "text/html": [
       "<div>\n",
       "<style scoped>\n",
       "    .dataframe tbody tr th:only-of-type {\n",
       "        vertical-align: middle;\n",
       "    }\n",
       "\n",
       "    .dataframe tbody tr th {\n",
       "        vertical-align: top;\n",
       "    }\n",
       "\n",
       "    .dataframe thead th {\n",
       "        text-align: right;\n",
       "    }\n",
       "</style>\n",
       "<table border=\"1\" class=\"dataframe\">\n",
       "  <thead>\n",
       "    <tr style=\"text-align: right;\">\n",
       "      <th></th>\n",
       "      <th>Smokers(%)</th>\n",
       "      <th>Cases</th>\n",
       "      <th>Deaths</th>\n",
       "      <th>Lethality</th>\n",
       "    </tr>\n",
       "  </thead>\n",
       "  <tbody>\n",
       "    <tr>\n",
       "      <th>Albania</th>\n",
       "      <td>22.4</td>\n",
       "      <td>0.1270</td>\n",
       "      <td>0.0010</td>\n",
       "      <td>0.787402</td>\n",
       "    </tr>\n",
       "    <tr>\n",
       "      <th>Andorra</th>\n",
       "      <td>31.8</td>\n",
       "      <td>0.1600</td>\n",
       "      <td>0.0010</td>\n",
       "      <td>0.625000</td>\n",
       "    </tr>\n",
       "    <tr>\n",
       "      <th>Argentina</th>\n",
       "      <td>24.5</td>\n",
       "      <td>1.4860</td>\n",
       "      <td>0.0080</td>\n",
       "      <td>0.538358</td>\n",
       "    </tr>\n",
       "    <tr>\n",
       "      <th>Austria</th>\n",
       "      <td>26.4</td>\n",
       "      <td>24.8400</td>\n",
       "      <td>0.0370</td>\n",
       "      <td>0.148953</td>\n",
       "    </tr>\n",
       "    <tr>\n",
       "      <th>Azerbaijan</th>\n",
       "      <td>24</td>\n",
       "      <td>0.2210</td>\n",
       "      <td>0.0100</td>\n",
       "      <td>4.524887</td>\n",
       "    </tr>\n",
       "    <tr>\n",
       "      <th>...</th>\n",
       "      <td>...</td>\n",
       "      <td>...</td>\n",
       "      <td>...</td>\n",
       "      <td>...</td>\n",
       "    </tr>\n",
       "    <tr>\n",
       "      <th>Thailand</th>\n",
       "      <td>22.1</td>\n",
       "      <td>3.1660</td>\n",
       "      <td>0.0420</td>\n",
       "      <td>1.326595</td>\n",
       "    </tr>\n",
       "    <tr>\n",
       "      <th>Ukraine</th>\n",
       "      <td>25.8</td>\n",
       "      <td>7.3170</td>\n",
       "      <td>0.1030</td>\n",
       "      <td>1.407681</td>\n",
       "    </tr>\n",
       "    <tr>\n",
       "      <th>United States of America</th>\n",
       "      <td>23</td>\n",
       "      <td>28.1955</td>\n",
       "      <td>0.2323</td>\n",
       "      <td>0.823890</td>\n",
       "    </tr>\n",
       "    <tr>\n",
       "      <th>Uruguay</th>\n",
       "      <td>21.5</td>\n",
       "      <td>0.8160</td>\n",
       "      <td>0.0030</td>\n",
       "      <td>0.367647</td>\n",
       "    </tr>\n",
       "    <tr>\n",
       "      <th>Viet Nam</th>\n",
       "      <td>24.8</td>\n",
       "      <td>2.8510</td>\n",
       "      <td>0.0010</td>\n",
       "      <td>0.035075</td>\n",
       "    </tr>\n",
       "  </tbody>\n",
       "</table>\n",
       "<p>68 rows × 4 columns</p>\n",
       "</div>"
      ],
      "text/plain": [
       "                         Smokers(%)    Cases  Deaths  Lethality\n",
       "Albania                        22.4   0.1270  0.0010   0.787402\n",
       "Andorra                        31.8   0.1600  0.0010   0.625000\n",
       "Argentina                      24.5   1.4860  0.0080   0.538358\n",
       "Austria                        26.4  24.8400  0.0370   0.148953\n",
       "Azerbaijan                       24   0.2210  0.0100   4.524887\n",
       "...                             ...      ...     ...        ...\n",
       "Thailand                       22.1   3.1660  0.0420   1.326595\n",
       "Ukraine                        25.8   7.3170  0.1030   1.407681\n",
       "United States of America         23  28.1955  0.2323   0.823890\n",
       "Uruguay                        21.5   0.8160  0.0030   0.367647\n",
       "Viet Nam                       24.8   2.8510  0.0010   0.035075\n",
       "\n",
       "[68 rows x 4 columns]"
      ]
     },
     "execution_count": 22,
     "metadata": {},
     "output_type": "execute_result"
    }
   ],
   "source": [
    "join_smkr = df_smkr.join(df_covid19, how='inner') # 흡연자 비율과 확진자/사망자/치사율 data 병합\n",
    "join_smkr"
   ]
  },
  {
   "cell_type": "markdown",
   "id": "526485dd",
   "metadata": {},
   "source": [
    "### 국가별 흡연율과 코로나-19 확진자/사망자/치사율의 상관관계"
   ]
  },
  {
   "cell_type": "code",
   "execution_count": 23,
   "id": "8fff0d08",
   "metadata": {
    "scrolled": false
   },
   "outputs": [
    {
     "data": {
      "image/png": "[encoded data removed]",
      "text/plain": [
       "<Figure size 1440x360 with 3 Axes>"
      ]
     },
     "metadata": {
      "needs_background": "light"
     },
     "output_type": "display_data"
    }
   ],
   "source": [
    "f, ax = plt.subplots(1,3, figsize=(20,5))\n",
    "\n",
    "# Linear Regression을 활용해 선형 모델에 fitting\n",
    "lr = LinearRegression()\n",
    "\n",
    "x_val = ['Cases','Deaths','Lethality']\n",
    "m = min(join_smkr['Smokers(%)'])\n",
    "mx = max(join_smkr['Smokers(%)'])\n",
    "\n",
    "for n in range(3):\n",
    "    ax[n].scatter(join_smkr['Smokers(%)'],join_smkr[x_val[n]])\n",
    "    x_train = np.array(join_smkr['Smokers(%)']).reshape(-1,1)\n",
    "    y_train = np.array(join_smkr[x_val[n]]).reshape(-1,1)\n",
    "    lr.fit(x_train,y_train)\n",
    "    ax[n].plot([m,mx], [m*float(lr.coef_) + lr.intercept_ , mx*lr.coef_ + lr.intercept_])\n",
    "    ax[n].set_xlabel('Smokers(%)', fontsize=16)\n",
    "    ax[n].set_ylabel(x_val[n], fontsize=16)\n",
    "\n",
    "plt.show()"
   ]
  },
  {
   "cell_type": "markdown",
   "id": "b0871fb6",
   "metadata": {},
   "source": [
    "## 국가별 1인당 알코올 음료 소비량"
   ]
  },
  {
   "cell_type": "code",
   "execution_count": 24,
   "id": "50e07c29",
   "metadata": {
    "scrolled": false
   },
   "outputs": [
    {
     "data": {
      "text/html": [
       "<div>\n",
       "<style scoped>\n",
       "    .dataframe tbody tr th:only-of-type {\n",
       "        vertical-align: middle;\n",
       "    }\n",
       "\n",
       "    .dataframe tbody tr th {\n",
       "        vertical-align: top;\n",
       "    }\n",
       "\n",
       "    .dataframe thead th {\n",
       "        text-align: right;\n",
       "    }\n",
       "</style>\n",
       "<table border=\"1\" class=\"dataframe\">\n",
       "  <thead>\n",
       "    <tr style=\"text-align: right;\">\n",
       "      <th></th>\n",
       "      <th>Alcohol consumption(l)</th>\n",
       "    </tr>\n",
       "    <tr>\n",
       "      <th></th>\n",
       "      <th></th>\n",
       "    </tr>\n",
       "  </thead>\n",
       "  <tbody>\n",
       "    <tr>\n",
       "      <th>Albania</th>\n",
       "      <td>6.8</td>\n",
       "    </tr>\n",
       "    <tr>\n",
       "      <th>Algeria</th>\n",
       "      <td>0.6</td>\n",
       "    </tr>\n",
       "    <tr>\n",
       "      <th>Andorra</th>\n",
       "      <td>12.3</td>\n",
       "    </tr>\n",
       "    <tr>\n",
       "      <th>Angola</th>\n",
       "      <td>7.8</td>\n",
       "    </tr>\n",
       "    <tr>\n",
       "      <th>Antigua and Barbuda</th>\n",
       "      <td>9.4</td>\n",
       "    </tr>\n",
       "  </tbody>\n",
       "</table>\n",
       "</div>"
      ],
      "text/plain": [
       "                    Alcohol consumption(l)\n",
       "                                          \n",
       "Albania                                6.8\n",
       "Algeria                                0.6\n",
       "Andorra                               12.3\n",
       "Angola                                 7.8\n",
       "Antigua and Barbuda                    9.4"
      ]
     },
     "execution_count": 24,
     "metadata": {},
     "output_type": "execute_result"
    }
   ],
   "source": [
    "with pd.ExcelFile(\"data/whs2022.xlsx\") as xls:\n",
    "    df_alc = pd.read_excel(xls, \"Annex 2-2\")\n",
    "df_alc = df_alc.iloc[4:,[0,3]] # 국가별 1인당 알코올 소비량 추출\n",
    "df_alc = df_alc[df_alc != '-'] # data값이 '-'로 표시된 나라를 NaN Value로 변경\n",
    "df_alc = df_alc[df_alc != '<0.1'] # data값이 '<0.1'로 표시된 나라를 NaN Value로 변경\n",
    "df_alc = df_alc.dropna() # NaN Value 제거\n",
    "df_alc.columns = ['','Alcohol consumption(l)']\n",
    "df_alc = df_alc.set_index('')\n",
    "df_alc.head()"
   ]
  },
  {
   "cell_type": "markdown",
   "id": "f62cfa25",
   "metadata": {},
   "source": [
    "- `key data`와 국가별 알코올 섭취량 병합"
   ]
  },
  {
   "cell_type": "code",
   "execution_count": 25,
   "id": "d13a5146",
   "metadata": {
    "scrolled": true
   },
   "outputs": [
    {
     "data": {
      "text/html": [
       "<div>\n",
       "<style scoped>\n",
       "    .dataframe tbody tr th:only-of-type {\n",
       "        vertical-align: middle;\n",
       "    }\n",
       "\n",
       "    .dataframe tbody tr th {\n",
       "        vertical-align: top;\n",
       "    }\n",
       "\n",
       "    .dataframe thead th {\n",
       "        text-align: right;\n",
       "    }\n",
       "</style>\n",
       "<table border=\"1\" class=\"dataframe\">\n",
       "  <thead>\n",
       "    <tr style=\"text-align: right;\">\n",
       "      <th></th>\n",
       "      <th>Alcohol consumption(l)</th>\n",
       "      <th>Cases</th>\n",
       "      <th>Deaths</th>\n",
       "      <th>Lethality</th>\n",
       "    </tr>\n",
       "  </thead>\n",
       "  <tbody>\n",
       "    <tr>\n",
       "      <th>Albania</th>\n",
       "      <td>6.8</td>\n",
       "      <td>0.1270</td>\n",
       "      <td>0.0010</td>\n",
       "      <td>0.787402</td>\n",
       "    </tr>\n",
       "    <tr>\n",
       "      <th>Andorra</th>\n",
       "      <td>12.3</td>\n",
       "      <td>0.1600</td>\n",
       "      <td>0.0010</td>\n",
       "      <td>0.625000</td>\n",
       "    </tr>\n",
       "    <tr>\n",
       "      <th>Argentina</th>\n",
       "      <td>9.5</td>\n",
       "      <td>1.4860</td>\n",
       "      <td>0.0080</td>\n",
       "      <td>0.538358</td>\n",
       "    </tr>\n",
       "    <tr>\n",
       "      <th>Austria</th>\n",
       "      <td>11.9</td>\n",
       "      <td>24.8400</td>\n",
       "      <td>0.0370</td>\n",
       "      <td>0.148953</td>\n",
       "    </tr>\n",
       "    <tr>\n",
       "      <th>Azerbaijan</th>\n",
       "      <td>1</td>\n",
       "      <td>0.2210</td>\n",
       "      <td>0.0100</td>\n",
       "      <td>4.524887</td>\n",
       "    </tr>\n",
       "    <tr>\n",
       "      <th>...</th>\n",
       "      <td>...</td>\n",
       "      <td>...</td>\n",
       "      <td>...</td>\n",
       "      <td>...</td>\n",
       "    </tr>\n",
       "    <tr>\n",
       "      <th>Ukraine</th>\n",
       "      <td>8.3</td>\n",
       "      <td>7.3170</td>\n",
       "      <td>0.1030</td>\n",
       "      <td>1.407681</td>\n",
       "    </tr>\n",
       "    <tr>\n",
       "      <th>United States of America</th>\n",
       "      <td>10</td>\n",
       "      <td>28.1955</td>\n",
       "      <td>0.2323</td>\n",
       "      <td>0.823890</td>\n",
       "    </tr>\n",
       "    <tr>\n",
       "      <th>Uruguay</th>\n",
       "      <td>6.9</td>\n",
       "      <td>0.8160</td>\n",
       "      <td>0.0030</td>\n",
       "      <td>0.367647</td>\n",
       "    </tr>\n",
       "    <tr>\n",
       "      <th>Venezuela (Bolivarian Republic of)</th>\n",
       "      <td>3.6</td>\n",
       "      <td>0.3520</td>\n",
       "      <td>0.0020</td>\n",
       "      <td>0.568182</td>\n",
       "    </tr>\n",
       "    <tr>\n",
       "      <th>Viet Nam</th>\n",
       "      <td>7.9</td>\n",
       "      <td>2.8510</td>\n",
       "      <td>0.0010</td>\n",
       "      <td>0.035075</td>\n",
       "    </tr>\n",
       "  </tbody>\n",
       "</table>\n",
       "<p>73 rows × 4 columns</p>\n",
       "</div>"
      ],
      "text/plain": [
       "                                   Alcohol consumption(l)    Cases  Deaths  \\\n",
       "Albania                                               6.8   0.1270  0.0010   \n",
       "Andorra                                              12.3   0.1600  0.0010   \n",
       "Argentina                                             9.5   1.4860  0.0080   \n",
       "Austria                                              11.9  24.8400  0.0370   \n",
       "Azerbaijan                                              1   0.2210  0.0100   \n",
       "...                                                   ...      ...     ...   \n",
       "Ukraine                                               8.3   7.3170  0.1030   \n",
       "United States of America                               10  28.1955  0.2323   \n",
       "Uruguay                                               6.9   0.8160  0.0030   \n",
       "Venezuela (Bolivarian Republic of)                    3.6   0.3520  0.0020   \n",
       "Viet Nam                                              7.9   2.8510  0.0010   \n",
       "\n",
       "                                    Lethality  \n",
       "Albania                              0.787402  \n",
       "Andorra                              0.625000  \n",
       "Argentina                            0.538358  \n",
       "Austria                              0.148953  \n",
       "Azerbaijan                           4.524887  \n",
       "...                                       ...  \n",
       "Ukraine                              1.407681  \n",
       "United States of America             0.823890  \n",
       "Uruguay                              0.367647  \n",
       "Venezuela (Bolivarian Republic of)   0.568182  \n",
       "Viet Nam                             0.035075  \n",
       "\n",
       "[73 rows x 4 columns]"
      ]
     },
     "execution_count": 25,
     "metadata": {},
     "output_type": "execute_result"
    }
   ],
   "source": [
    "join_alc = df_alc.join(df_covid19, how='inner') # 알코올 소비량과 확진자/사망자/치사율 data 병합\n",
    "join_alc"
   ]
  },
  {
   "cell_type": "markdown",
   "id": "d56255eb",
   "metadata": {},
   "source": [
    "### 국가별 알코올 섭취량과 코로나-19 확진자/사망자/치사율의 상관관계"
   ]
  },
  {
   "cell_type": "code",
   "execution_count": 26,
   "id": "83b3ec81",
   "metadata": {
    "scrolled": false
   },
   "outputs": [
    {
     "data": {
      "image/png": "[encoded data removed]",
      "text/plain": [
       "<Figure size 1440x360 with 3 Axes>"
      ]
     },
     "metadata": {
      "needs_background": "light"
     },
     "output_type": "display_data"
    }
   ],
   "source": [
    "f, ax = plt.subplots(1,3, figsize=(20,5))\n",
    "\n",
    "# Linear Regression을 활용해 선형 모델에 fitting\n",
    "lr = LinearRegression()\n",
    "\n",
    "x_val = ['Cases','Deaths','Lethality']\n",
    "m = min(join_alc['Alcohol consumption(l)'])\n",
    "mx = max(join_alc['Alcohol consumption(l)'])\n",
    "\n",
    "for n in range(3):\n",
    "    ax[n].scatter(join_alc['Alcohol consumption(l)'],join_alc[x_val[n]])\n",
    "    x_train = np.array(join_alc['Alcohol consumption(l)']).reshape(-1,1)\n",
    "    y_train = np.array(join_alc[x_val[n]]).reshape(-1,1)\n",
    "    lr.fit(x_train,y_train)\n",
    "    ax[n].plot([m,mx], [m*float(lr.coef_) + lr.intercept_ , mx*lr.coef_ + lr.intercept_])\n",
    "    ax[n].set_xlabel('Alcohol consumption(l)', fontsize=16)\n",
    "    ax[n].set_ylabel(x_val[n], fontsize=16)\n",
    "\n",
    "plt.show()"
   ]
  },
  {
   "cell_type": "markdown",
   "id": "c8e002df",
   "metadata": {},
   "source": [
    "## 국가별 HIV 감염자 수"
   ]
  },
  {
   "cell_type": "code",
   "execution_count": 27,
   "id": "4d75f9bd",
   "metadata": {},
   "outputs": [
    {
     "data": {
      "text/html": [
       "<div>\n",
       "<style scoped>\n",
       "    .dataframe tbody tr th:only-of-type {\n",
       "        vertical-align: middle;\n",
       "    }\n",
       "\n",
       "    .dataframe tbody tr th {\n",
       "        vertical-align: top;\n",
       "    }\n",
       "\n",
       "    .dataframe thead th {\n",
       "        text-align: right;\n",
       "    }\n",
       "</style>\n",
       "<table border=\"1\" class=\"dataframe\">\n",
       "  <thead>\n",
       "    <tr style=\"text-align: right;\">\n",
       "      <th></th>\n",
       "      <th>HIV_infections(per1000)</th>\n",
       "    </tr>\n",
       "    <tr>\n",
       "      <th></th>\n",
       "      <th></th>\n",
       "    </tr>\n",
       "  </thead>\n",
       "  <tbody>\n",
       "    <tr>\n",
       "      <th>Afghanistan</th>\n",
       "      <td>0.04</td>\n",
       "    </tr>\n",
       "    <tr>\n",
       "      <th>Albania</th>\n",
       "      <td>0.03</td>\n",
       "    </tr>\n",
       "    <tr>\n",
       "      <th>Algeria</th>\n",
       "      <td>0.04</td>\n",
       "    </tr>\n",
       "    <tr>\n",
       "      <th>Angola</th>\n",
       "      <td>0.69</td>\n",
       "    </tr>\n",
       "    <tr>\n",
       "      <th>Argentina</th>\n",
       "      <td>0.13</td>\n",
       "    </tr>\n",
       "    <tr>\n",
       "      <th>...</th>\n",
       "      <td>...</td>\n",
       "    </tr>\n",
       "    <tr>\n",
       "      <th>South-East Asia Region</th>\n",
       "      <td>0.05</td>\n",
       "    </tr>\n",
       "    <tr>\n",
       "      <th>European Region</th>\n",
       "      <td>0.18</td>\n",
       "    </tr>\n",
       "    <tr>\n",
       "      <th>Eastern Mediterranean Region</th>\n",
       "      <td>0.06</td>\n",
       "    </tr>\n",
       "    <tr>\n",
       "      <th>Western Pacific Region</th>\n",
       "      <td>0.06</td>\n",
       "    </tr>\n",
       "    <tr>\n",
       "      <th>Global</th>\n",
       "      <td>0.19</td>\n",
       "    </tr>\n",
       "  </tbody>\n",
       "</table>\n",
       "<p>138 rows × 1 columns</p>\n",
       "</div>"
      ],
      "text/plain": [
       "                             HIV_infections(per1000)\n",
       "                                                    \n",
       "Afghanistan                                     0.04\n",
       "Albania                                         0.03\n",
       "Algeria                                         0.04\n",
       "Angola                                          0.69\n",
       "Argentina                                       0.13\n",
       "...                                              ...\n",
       "South-East Asia Region                          0.05\n",
       "European Region                                 0.18\n",
       "Eastern Mediterranean Region                    0.06\n",
       "Western Pacific Region                          0.06\n",
       "Global                                          0.19\n",
       "\n",
       "[138 rows x 1 columns]"
      ]
     },
     "execution_count": 27,
     "metadata": {},
     "output_type": "execute_result"
    }
   ],
   "source": [
    "with pd.ExcelFile(\"data/whs2022.xlsx\") as xls:\n",
    "    df_HIV = pd.read_excel(xls, \"Annex 2-1\")\n",
    "df_HIV = df_HIV.iloc[4:,[0,15]] # 국가별 1인당 알코올 소비량 추출\n",
    "df_HIV = df_HIV[df_HIV != '-'] # data값이 '-'로 표시된 나라를 NaN Value로 변경\n",
    "df_HIV = df_HIV.dropna() # NaN Value 제거\n",
    "df_HIV.columns = ['','HIV_infections(per1000)']\n",
    "df_HIV = df_HIV.set_index('')\n",
    "df_HIV"
   ]
  },
  {
   "cell_type": "code",
   "execution_count": 28,
   "id": "f6977291",
   "metadata": {
    "scrolled": false
   },
   "outputs": [
    {
     "data": {
      "text/html": [
       "<div>\n",
       "<style scoped>\n",
       "    .dataframe tbody tr th:only-of-type {\n",
       "        vertical-align: middle;\n",
       "    }\n",
       "\n",
       "    .dataframe tbody tr th {\n",
       "        vertical-align: top;\n",
       "    }\n",
       "\n",
       "    .dataframe thead th {\n",
       "        text-align: right;\n",
       "    }\n",
       "</style>\n",
       "<table border=\"1\" class=\"dataframe\">\n",
       "  <thead>\n",
       "    <tr style=\"text-align: right;\">\n",
       "      <th></th>\n",
       "      <th>HIV_infections(per1000)</th>\n",
       "      <th>Cases</th>\n",
       "      <th>Deaths</th>\n",
       "      <th>Lethality</th>\n",
       "    </tr>\n",
       "  </thead>\n",
       "  <tbody>\n",
       "    <tr>\n",
       "      <th>Albania</th>\n",
       "      <td>0.03</td>\n",
       "      <td>0.127</td>\n",
       "      <td>0.001</td>\n",
       "      <td>0.787402</td>\n",
       "    </tr>\n",
       "    <tr>\n",
       "      <th>Argentina</th>\n",
       "      <td>0.13</td>\n",
       "      <td>1.486</td>\n",
       "      <td>0.008</td>\n",
       "      <td>0.538358</td>\n",
       "    </tr>\n",
       "    <tr>\n",
       "      <th>Azerbaijan</th>\n",
       "      <td>0.04</td>\n",
       "      <td>0.221</td>\n",
       "      <td>0.010</td>\n",
       "      <td>4.524887</td>\n",
       "    </tr>\n",
       "    <tr>\n",
       "      <th>Bolivia (Plurinational State of)</th>\n",
       "      <td>0.08</td>\n",
       "      <td>0.258</td>\n",
       "      <td>0.003</td>\n",
       "      <td>1.162791</td>\n",
       "    </tr>\n",
       "    <tr>\n",
       "      <th>Brazil</th>\n",
       "      <td>0.23</td>\n",
       "      <td>54.974</td>\n",
       "      <td>0.215</td>\n",
       "      <td>0.391094</td>\n",
       "    </tr>\n",
       "  </tbody>\n",
       "</table>\n",
       "</div>"
      ],
      "text/plain": [
       "                                 HIV_infections(per1000)   Cases  Deaths  \\\n",
       "Albania                                             0.03   0.127   0.001   \n",
       "Argentina                                           0.13   1.486   0.008   \n",
       "Azerbaijan                                          0.04   0.221   0.010   \n",
       "Bolivia (Plurinational State of)                    0.08   0.258   0.003   \n",
       "Brazil                                              0.23  54.974   0.215   \n",
       "\n",
       "                                  Lethality  \n",
       "Albania                            0.787402  \n",
       "Argentina                          0.538358  \n",
       "Azerbaijan                         4.524887  \n",
       "Bolivia (Plurinational State of)   1.162791  \n",
       "Brazil                             0.391094  "
      ]
     },
     "execution_count": 28,
     "metadata": {},
     "output_type": "execute_result"
    }
   ],
   "source": [
    "join_HIV = df_HIV.join(df_covid19, how='inner') # 흡연자 비율과 확진자/사망자/치사율 data 병합\n",
    "join_HIV.head()"
   ]
  },
  {
   "cell_type": "markdown",
   "id": "492badd2",
   "metadata": {},
   "source": [
    "### 국가별 HIV 감염자 비율과 코로나-19 확진자/사망자/치사율의 상관관계"
   ]
  },
  {
   "cell_type": "code",
   "execution_count": 29,
   "id": "f3bc8f65",
   "metadata": {
    "scrolled": false
   },
   "outputs": [
    {
     "data": {
      "image/png": "[encoded data removed]",
      "text/plain": [
       "<Figure size 1440x360 with 3 Axes>"
      ]
     },
     "metadata": {
      "needs_background": "light"
     },
     "output_type": "display_data"
    }
   ],
   "source": [
    "f, ax = plt.subplots(1,3, figsize=(20,5))\n",
    "\n",
    "# Linear Regression을 활용해 선형 모델에 fitting\n",
    "lr = LinearRegression()\n",
    "\n",
    "x_val = ['Cases','Deaths','Lethality']\n",
    "m = min(join_HIV['HIV_infections(per1000)'])\n",
    "mx = max(join_HIV['HIV_infections(per1000)'])\n",
    "\n",
    "for n in range(3):\n",
    "    ax[n].scatter(join_HIV['HIV_infections(per1000)'],join_HIV[x_val[n]])\n",
    "    x_train = np.array(join_HIV['HIV_infections(per1000)']).reshape(-1,1)\n",
    "    y_train = np.array(join_HIV[x_val[n]]).reshape(-1,1)\n",
    "    lr.fit(x_train,y_train)\n",
    "    ax[n].plot([m,mx], [m*float(lr.coef_) + lr.intercept_ , mx*lr.coef_ + lr.intercept_])\n",
    "    ax[n].set_xlabel('HIV_infections(per1000)', fontsize=16)\n",
    "    ax[n].set_ylabel(x_val[n], fontsize=16)\n",
    "\n",
    "plt.show()"
   ]
  }
 ],
 "metadata": {
  "kernelspec": {
   "display_name": "Python 3 (ipykernel)",
   "language": "python",
   "name": "python3"
  },
  "language_info": {
   "codemirror_mode": {
    "name": "ipython",
    "version": 3
   },
   "file_extension": ".py",
   "mimetype": "text/x-python",
   "name": "python",
   "nbconvert_exporter": "python",
   "pygments_lexer": "ipython3",
   "version": "3.9.12"
  }
 },
 "nbformat": 4,
 "nbformat_minor": 5
}
